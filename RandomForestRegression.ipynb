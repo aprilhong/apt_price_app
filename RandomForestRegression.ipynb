{
 "cells": [
  {
   "cell_type": "markdown",
   "metadata": {},
   "source": [
    "# Predict Aparatment Prices with Random Forest Regression"
   ]
  },
  {
   "cell_type": "markdown",
   "metadata": {
    "vscode": {
     "languageId": "plaintext"
    }
   },
   "source": [
    "GOAL: Beat best Linear Model trained previously\n",
    "- MAE: ~18600\n",
    "- RMSE: ~23400"
   ]
  },
  {
   "cell_type": "code",
   "execution_count": 2,
   "metadata": {},
   "outputs": [],
   "source": [
    "# Data Loading\n",
    "import pickle\n",
    "\n",
    "# Data Manipulation\n",
    "import pandas as pd\n",
    "import numpy as np\n",
    "from sklearn.preprocessing import LabelEncoder\n",
    "\n",
    "# RandomForest Regression\n",
    "from sklearn.ensemble import RandomForestRegressor\n",
    "from sklearn.metrics import mean_squared_error, mean_absolute_error\n",
    "import math\n",
    "\n",
    "# Visualization\n",
    "import seaborn as sns\n",
    "import matplotlib.pyplot as plt"
   ]
  },
  {
   "cell_type": "code",
   "execution_count": 8,
   "metadata": {},
   "outputs": [
    {
     "data": {
      "text/plain": [
       "(161, 11)"
      ]
     },
     "execution_count": 8,
     "metadata": {},
     "output_type": "execute_result"
    }
   ],
   "source": [
    "with open('data/cluj_prices_lm.pkl','rb') as f:\n",
    "    df = pickle.load(f)\n",
    "\n",
    "df.shape"
   ]
  },
  {
   "cell_type": "code",
   "execution_count": 9,
   "metadata": {},
   "outputs": [
    {
     "data": {
      "text/html": [
       "<div>\n",
       "<style scoped>\n",
       "    .dataframe tbody tr th:only-of-type {\n",
       "        vertical-align: middle;\n",
       "    }\n",
       "\n",
       "    .dataframe tbody tr th {\n",
       "        vertical-align: top;\n",
       "    }\n",
       "\n",
       "    .dataframe thead th {\n",
       "        text-align: right;\n",
       "    }\n",
       "</style>\n",
       "<table border=\"1\" class=\"dataframe\">\n",
       "  <thead>\n",
       "    <tr style=\"text-align: right;\">\n",
       "      <th></th>\n",
       "      <th>price_euro</th>\n",
       "      <th>rooms</th>\n",
       "      <th>size</th>\n",
       "      <th>bathrooms</th>\n",
       "      <th>terrace</th>\n",
       "      <th>pass_through</th>\n",
       "      <th>finished</th>\n",
       "      <th>height_pos</th>\n",
       "      <th>neighbourhood</th>\n",
       "      <th>year_built</th>\n",
       "      <th>zone</th>\n",
       "    </tr>\n",
       "  </thead>\n",
       "  <tbody>\n",
       "    <tr>\n",
       "      <th>0</th>\n",
       "      <td>133425</td>\n",
       "      <td>2</td>\n",
       "      <td>53.0</td>\n",
       "      <td>1</td>\n",
       "      <td>1</td>\n",
       "      <td>False</td>\n",
       "      <td>not finished</td>\n",
       "      <td>0.17</td>\n",
       "      <td>Intre Lacuri</td>\n",
       "      <td>2024</td>\n",
       "      <td>other</td>\n",
       "    </tr>\n",
       "    <tr>\n",
       "      <th>1</th>\n",
       "      <td>168675</td>\n",
       "      <td>3</td>\n",
       "      <td>67.0</td>\n",
       "      <td>2</td>\n",
       "      <td>2</td>\n",
       "      <td>False</td>\n",
       "      <td>not finished</td>\n",
       "      <td>0.17</td>\n",
       "      <td>Intre Lacuri</td>\n",
       "      <td>2024</td>\n",
       "      <td>other</td>\n",
       "    </tr>\n",
       "    <tr>\n",
       "      <th>2</th>\n",
       "      <td>177825</td>\n",
       "      <td>3</td>\n",
       "      <td>69.0</td>\n",
       "      <td>2</td>\n",
       "      <td>2</td>\n",
       "      <td>False</td>\n",
       "      <td>not finished</td>\n",
       "      <td>0.17</td>\n",
       "      <td>Intre Lacuri</td>\n",
       "      <td>2024</td>\n",
       "      <td>other</td>\n",
       "    </tr>\n",
       "    <tr>\n",
       "      <th>3</th>\n",
       "      <td>168675</td>\n",
       "      <td>3</td>\n",
       "      <td>67.0</td>\n",
       "      <td>2</td>\n",
       "      <td>2</td>\n",
       "      <td>False</td>\n",
       "      <td>not finished</td>\n",
       "      <td>0.17</td>\n",
       "      <td>Gheorgheni</td>\n",
       "      <td>2024</td>\n",
       "      <td>other</td>\n",
       "    </tr>\n",
       "    <tr>\n",
       "      <th>4</th>\n",
       "      <td>133725</td>\n",
       "      <td>2</td>\n",
       "      <td>53.0</td>\n",
       "      <td>1</td>\n",
       "      <td>0</td>\n",
       "      <td>True</td>\n",
       "      <td>not finished</td>\n",
       "      <td>0.17</td>\n",
       "      <td>Intre Lacuri</td>\n",
       "      <td>2024</td>\n",
       "      <td>other</td>\n",
       "    </tr>\n",
       "  </tbody>\n",
       "</table>\n",
       "</div>"
      ],
      "text/plain": [
       "   price_euro  rooms  size  bathrooms  terrace  pass_through      finished  \\\n",
       "0      133425      2  53.0          1        1         False  not finished   \n",
       "1      168675      3  67.0          2        2         False  not finished   \n",
       "2      177825      3  69.0          2        2         False  not finished   \n",
       "3      168675      3  67.0          2        2         False  not finished   \n",
       "4      133725      2  53.0          1        0          True  not finished   \n",
       "\n",
       "   height_pos neighbourhood  year_built   zone  \n",
       "0        0.17  Intre Lacuri        2024  other  \n",
       "1        0.17  Intre Lacuri        2024  other  \n",
       "2        0.17  Intre Lacuri        2024  other  \n",
       "3        0.17    Gheorgheni        2024  other  \n",
       "4        0.17  Intre Lacuri        2024  other  "
      ]
     },
     "execution_count": 9,
     "metadata": {},
     "output_type": "execute_result"
    }
   ],
   "source": [
    "df.head()"
   ]
  },
  {
   "cell_type": "code",
   "execution_count": 12,
   "metadata": {},
   "outputs": [
    {
     "name": "stdout",
     "output_type": "stream",
     "text": [
      "<class 'pandas.core.frame.DataFrame'>\n",
      "Index: 161 entries, 0 to 314\n",
      "Data columns (total 11 columns):\n",
      " #   Column         Non-Null Count  Dtype  \n",
      "---  ------         --------------  -----  \n",
      " 0   price_euro     161 non-null    int64  \n",
      " 1   rooms          161 non-null    int64  \n",
      " 2   size           161 non-null    float64\n",
      " 3   bathrooms      161 non-null    int64  \n",
      " 4   terrace        161 non-null    int64  \n",
      " 5   pass_through   161 non-null    bool   \n",
      " 6   finished       161 non-null    object \n",
      " 7   height_pos     161 non-null    float64\n",
      " 8   neighbourhood  161 non-null    object \n",
      " 9   year_built     161 non-null    int32  \n",
      " 10  zone           161 non-null    object \n",
      "dtypes: bool(1), float64(2), int32(1), int64(4), object(3)\n",
      "memory usage: 13.4+ KB\n"
     ]
    }
   ],
   "source": [
    "df.info()"
   ]
  },
  {
   "cell_type": "code",
   "execution_count": 13,
   "metadata": {},
   "outputs": [],
   "source": [
    "# fix text input values for \"finished\", \"zone\", \"neigbourhoid\"\n",
    "\n",
    "df.neighbourhood = df.neighbourhood.str.lower()\n",
    "df.finished = df.finished.str.lower()\n",
    "df.zone = df.zone.str.lower()"
   ]
  },
  {
   "cell_type": "code",
   "execution_count": 16,
   "metadata": {},
   "outputs": [],
   "source": [
    "le = LabelEncoder()\n",
    "\n",
    "df.neighbourhood = le.fit_transform(df.neighbourhood)\n",
    "df.finished = le.fit_transform(df.finished)\n",
    "df.zone = le.fit_transform(df.zone)"
   ]
  },
  {
   "cell_type": "code",
   "execution_count": 17,
   "metadata": {},
   "outputs": [
    {
     "data": {
      "text/html": [
       "<div>\n",
       "<style scoped>\n",
       "    .dataframe tbody tr th:only-of-type {\n",
       "        vertical-align: middle;\n",
       "    }\n",
       "\n",
       "    .dataframe tbody tr th {\n",
       "        vertical-align: top;\n",
       "    }\n",
       "\n",
       "    .dataframe thead th {\n",
       "        text-align: right;\n",
       "    }\n",
       "</style>\n",
       "<table border=\"1\" class=\"dataframe\">\n",
       "  <thead>\n",
       "    <tr style=\"text-align: right;\">\n",
       "      <th></th>\n",
       "      <th>price_euro</th>\n",
       "      <th>rooms</th>\n",
       "      <th>size</th>\n",
       "      <th>bathrooms</th>\n",
       "      <th>terrace</th>\n",
       "      <th>pass_through</th>\n",
       "      <th>finished</th>\n",
       "      <th>height_pos</th>\n",
       "      <th>neighbourhood</th>\n",
       "      <th>year_built</th>\n",
       "      <th>zone</th>\n",
       "    </tr>\n",
       "  </thead>\n",
       "  <tbody>\n",
       "    <tr>\n",
       "      <th>0</th>\n",
       "      <td>133425</td>\n",
       "      <td>2</td>\n",
       "      <td>53.0</td>\n",
       "      <td>1</td>\n",
       "      <td>1</td>\n",
       "      <td>False</td>\n",
       "      <td>3</td>\n",
       "      <td>0.17</td>\n",
       "      <td>8</td>\n",
       "      <td>2024</td>\n",
       "      <td>1</td>\n",
       "    </tr>\n",
       "    <tr>\n",
       "      <th>1</th>\n",
       "      <td>168675</td>\n",
       "      <td>3</td>\n",
       "      <td>67.0</td>\n",
       "      <td>2</td>\n",
       "      <td>2</td>\n",
       "      <td>False</td>\n",
       "      <td>3</td>\n",
       "      <td>0.17</td>\n",
       "      <td>8</td>\n",
       "      <td>2024</td>\n",
       "      <td>1</td>\n",
       "    </tr>\n",
       "    <tr>\n",
       "      <th>2</th>\n",
       "      <td>177825</td>\n",
       "      <td>3</td>\n",
       "      <td>69.0</td>\n",
       "      <td>2</td>\n",
       "      <td>2</td>\n",
       "      <td>False</td>\n",
       "      <td>3</td>\n",
       "      <td>0.17</td>\n",
       "      <td>8</td>\n",
       "      <td>2024</td>\n",
       "      <td>1</td>\n",
       "    </tr>\n",
       "    <tr>\n",
       "      <th>3</th>\n",
       "      <td>168675</td>\n",
       "      <td>3</td>\n",
       "      <td>67.0</td>\n",
       "      <td>2</td>\n",
       "      <td>2</td>\n",
       "      <td>False</td>\n",
       "      <td>3</td>\n",
       "      <td>0.17</td>\n",
       "      <td>5</td>\n",
       "      <td>2024</td>\n",
       "      <td>1</td>\n",
       "    </tr>\n",
       "    <tr>\n",
       "      <th>4</th>\n",
       "      <td>133725</td>\n",
       "      <td>2</td>\n",
       "      <td>53.0</td>\n",
       "      <td>1</td>\n",
       "      <td>0</td>\n",
       "      <td>True</td>\n",
       "      <td>3</td>\n",
       "      <td>0.17</td>\n",
       "      <td>8</td>\n",
       "      <td>2024</td>\n",
       "      <td>1</td>\n",
       "    </tr>\n",
       "  </tbody>\n",
       "</table>\n",
       "</div>"
      ],
      "text/plain": [
       "   price_euro  rooms  size  bathrooms  terrace  pass_through  finished  \\\n",
       "0      133425      2  53.0          1        1         False         3   \n",
       "1      168675      3  67.0          2        2         False         3   \n",
       "2      177825      3  69.0          2        2         False         3   \n",
       "3      168675      3  67.0          2        2         False         3   \n",
       "4      133725      2  53.0          1        0          True         3   \n",
       "\n",
       "   height_pos  neighbourhood  year_built  zone  \n",
       "0        0.17              8        2024     1  \n",
       "1        0.17              8        2024     1  \n",
       "2        0.17              8        2024     1  \n",
       "3        0.17              5        2024     1  \n",
       "4        0.17              8        2024     1  "
      ]
     },
     "execution_count": 17,
     "metadata": {},
     "output_type": "execute_result"
    }
   ],
   "source": [
    "df.head()"
   ]
  },
  {
   "cell_type": "code",
   "execution_count": 18,
   "metadata": {},
   "outputs": [
    {
     "data": {
      "text/plain": [
       "price_euro         int64\n",
       "rooms              int64\n",
       "size             float64\n",
       "bathrooms          int64\n",
       "terrace            int64\n",
       "pass_through        bool\n",
       "finished           int64\n",
       "height_pos       float64\n",
       "neighbourhood      int64\n",
       "year_built         int32\n",
       "zone               int64\n",
       "dtype: object"
      ]
     },
     "execution_count": 18,
     "metadata": {},
     "output_type": "execute_result"
    }
   ],
   "source": [
    "df.dtypes"
   ]
  },
  {
   "cell_type": "code",
   "execution_count": 19,
   "metadata": {},
   "outputs": [],
   "source": [
    "# Convert categorical numbers into \"category\" type\n",
    "\n",
    "df.neighbourhood = df.neighbourhood.astype('category')\n",
    "df.finished = df.finished.astype('category')\n",
    "df.zone = df.zone.astype('category')"
   ]
  },
  {
   "cell_type": "code",
   "execution_count": 21,
   "metadata": {},
   "outputs": [
    {
     "data": {
      "text/plain": [
       "price_euro          int64\n",
       "rooms               int64\n",
       "size              float64\n",
       "bathrooms           int64\n",
       "terrace             int64\n",
       "pass_through         bool\n",
       "finished         category\n",
       "height_pos        float64\n",
       "neighbourhood    category\n",
       "year_built          int32\n",
       "zone             category\n",
       "dtype: object"
      ]
     },
     "execution_count": 21,
     "metadata": {},
     "output_type": "execute_result"
    }
   ],
   "source": [
    "df.dtypes"
   ]
  },
  {
   "cell_type": "code",
   "execution_count": null,
   "metadata": {},
   "outputs": [],
   "source": []
  }
 ],
 "metadata": {
  "kernelspec": {
   "display_name": "venv_price",
   "language": "python",
   "name": "python3"
  },
  "language_info": {
   "codemirror_mode": {
    "name": "ipython",
    "version": 3
   },
   "file_extension": ".py",
   "mimetype": "text/x-python",
   "name": "python",
   "nbconvert_exporter": "python",
   "pygments_lexer": "ipython3",
   "version": "3.10.14"
  }
 },
 "nbformat": 4,
 "nbformat_minor": 2
}
